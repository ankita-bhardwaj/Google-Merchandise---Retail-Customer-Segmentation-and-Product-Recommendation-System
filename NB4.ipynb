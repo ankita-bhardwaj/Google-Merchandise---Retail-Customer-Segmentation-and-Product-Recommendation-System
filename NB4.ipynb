{
 "cells": [
  {
   "cell_type": "markdown",
   "metadata": {},
   "source": [
    "# Creating a Recommendation stystem for cluster 1\n",
    "replacing cluster1.csv with other cluster's file will work for all the other clusters"
   ]
  },
  {
   "cell_type": "code",
   "execution_count": 21,
   "metadata": {},
   "outputs": [],
   "source": [
    "import pandas as pd"
   ]
  },
  {
   "cell_type": "code",
   "execution_count": 179,
   "metadata": {},
   "outputs": [],
   "source": [
    "cluster1=pd.read_csv('cluster1.csv')  #similarly for other clusters"
   ]
  },
  {
   "cell_type": "code",
   "execution_count": 180,
   "metadata": {},
   "outputs": [
    {
     "data": {
      "text/plain": [
       "(123634, 46)"
      ]
     },
     "execution_count": 180,
     "metadata": {},
     "output_type": "execute_result"
    }
   ],
   "source": [
    "len(cluster1),len(c1)"
   ]
  },
  {
   "cell_type": "code",
   "execution_count": 181,
   "metadata": {},
   "outputs": [],
   "source": [
    "cluster1=cluster1.drop(columns=['clusters','Unnamed: 0'])"
   ]
  },
  {
   "cell_type": "code",
   "execution_count": 182,
   "metadata": {},
   "outputs": [],
   "source": [
    "c1=cluster1[['price','category 2','category 3','product name one','product name two']]"
   ]
  },
  {
   "cell_type": "code",
   "execution_count": 183,
   "metadata": {},
   "outputs": [],
   "source": [
    "c1 = c1.drop_duplicates()"
   ]
  },
  {
   "cell_type": "code",
   "execution_count": 184,
   "metadata": {},
   "outputs": [
    {
     "data": {
      "text/plain": [
       "314"
      ]
     },
     "execution_count": 184,
     "metadata": {},
     "output_type": "execute_result"
    }
   ],
   "source": [
    "clus1=c1['price']\n",
    "len(clus1)"
   ]
  },
  {
   "cell_type": "code",
   "execution_count": 185,
   "metadata": {},
   "outputs": [],
   "source": [
    "df1=pd.get_dummies(c1['category 2'])"
   ]
  },
  {
   "cell_type": "code",
   "execution_count": 186,
   "metadata": {},
   "outputs": [],
   "source": [
    "df2=pd.get_dummies(c1['category 3'])"
   ]
  },
  {
   "cell_type": "code",
   "execution_count": 187,
   "metadata": {},
   "outputs": [],
   "source": [
    "df3=pd.get_dummies(c1['product name one'])"
   ]
  },
  {
   "cell_type": "code",
   "execution_count": 188,
   "metadata": {},
   "outputs": [],
   "source": [
    "result = pd.concat([df1,df2, df3], axis=1, join_axes=[df1.index])"
   ]
  },
  {
   "cell_type": "code",
   "execution_count": 189,
   "metadata": {},
   "outputs": [],
   "source": [
    "result['price']=c1['price']\n"
   ]
  },
  {
   "cell_type": "code",
   "execution_count": null,
   "metadata": {},
   "outputs": [],
   "source": []
  },
  {
   "cell_type": "code",
   "execution_count": 190,
   "metadata": {},
   "outputs": [],
   "source": [
    "from sklearn.preprocessing import MinMaxScaler\n"
   ]
  },
  {
   "cell_type": "code",
   "execution_count": 191,
   "metadata": {},
   "outputs": [],
   "source": [
    "min_max_scaler = MinMaxScaler()\n",
    "result = min_max_scaler.fit_transform(result)"
   ]
  },
  {
   "cell_type": "code",
   "execution_count": 192,
   "metadata": {},
   "outputs": [],
   "source": [
    "from sklearn.neighbors import NearestNeighbors\n",
    "\n",
    "nbrs = NearestNeighbors(n_neighbors=5, algorithm='ball_tree').fit(result)\n",
    "\n",
    "distances, indices = nbrs.kneighbors(result)"
   ]
  },
  {
   "cell_type": "code",
   "execution_count": 193,
   "metadata": {},
   "outputs": [],
   "source": [
    "l=list()\n",
    "for x in list(indices):\n",
    "    l.append(x)"
   ]
  },
  {
   "cell_type": "code",
   "execution_count": 194,
   "metadata": {},
   "outputs": [],
   "source": [
    "c1['indices']=l"
   ]
  },
  {
   "cell_type": "code",
   "execution_count": 199,
   "metadata": {},
   "outputs": [
    {
     "name": "stdout",
     "output_type": "stream",
     "text": [
      "Enter the name of a product : Thermal Bottle White\n",
      "\n",
      "nearest products: \n",
      "\n",
      "Trace Bottle Black\n",
      "16 oz Tumbler Black\n",
      "25 oz Gear Cap Bottle White\n"
     ]
    }
   ],
   "source": [
    "def products(name):\n",
    "    l=list()\n",
    "    for x in c1[c1['product name two']==name]['indices']:\n",
    "        for y in x:\n",
    "            l.append(y)\n",
    "    lis=list(set(l))\n",
    "    l2=list()\n",
    "    for x in lis:\n",
    "        try:\n",
    "            l2.append(c1['product name two'][x])\n",
    "        except:\n",
    "            pass\n",
    "    return l2\n",
    "#     for x in range(0,3):\n",
    "#         return (l2[x])\n",
    "inp=input(\"Enter the name of a product : \")\n",
    "a=products(inp)\n",
    "l=list()\n",
    "for x in a:\n",
    "    if x != inp:\n",
    "        l.append(x)\n",
    "print()\n",
    "print(\"nearest products: \")\n",
    "print()\n",
    "try:\n",
    "    for x in range(0,3):\n",
    "        print(l[x])\n",
    "except:\n",
    "    pass\n"
   ]
  },
  {
   "cell_type": "code",
   "execution_count": 195,
   "metadata": {},
   "outputs": [
    {
     "data": {
      "text/plain": [
       "0                                      Tee White\n",
       "1                             Packable Bag Black\n",
       "2                             Packable Bag Black\n",
       "3                             Packable Bag Black\n",
       "4                             Packable Bag Black\n",
       "5                             Packable Bag Black\n",
       "6                             Trace Bottle Black\n",
       "7                           Thermal Bottle White\n",
       "8                            16 oz Tumbler Black\n",
       "9                    25 oz Gear Cap Bottle White\n",
       "10                           Thermal Bottle Blue\n",
       "11                          Thermal Bottle Green\n",
       "12                            Thermal Bottle Red\n",
       "13                         Thermal Bottle Yellow\n",
       "14                     Transmission Bottle Black\n",
       "15                   25 oz Gear Cap Bottle Black\n",
       "16                      Waze Pack of 9 Decal Set\n",
       "17                   25 oz Gear Cap Bottle Black\n",
       "18                    Transmission Journal Black\n",
       "19                     Transmission Bottle Black\n",
       "20                                Kids Tee White\n",
       "21                                Kids Tee Black\n",
       "22                             Kids Onesie White\n",
       "23                                     Tee Black\n",
       "24                    Women's Favorite Tee White\n",
       "25                              3 Lines Tee Grey\n",
       "26                    Transmission Journal Black\n",
       "27                     Transmission Bottle Black\n",
       "28                   25 oz Gear Cap Bottle Black\n",
       "29                                Kids Tee White\n",
       "                           ...                  \n",
       "123604                                 Tee Black\n",
       "123605                                 Tee Black\n",
       "123606                Women's Favorite Tee White\n",
       "123607                Women's Favorite Tee White\n",
       "123608                          3 Lines Tee Grey\n",
       "123609                          3 Lines Tee Grey\n",
       "123610               Waze Men's Short Sleeve Tee\n",
       "123611    Waze Men's Typography Short Sleeve Tee\n",
       "123612                                 Tee White\n",
       "123613                                   Tee Red\n",
       "123614                                Tee Yellow\n",
       "123615                                 Tee Green\n",
       "123616                                  Tee Blue\n",
       "123617                             Bike Tee Navy\n",
       "123618                          Matrix Tee White\n",
       "123619                                 Tee Black\n",
       "123620                          3 Lines Tee Grey\n",
       "123621               Waze Men's Short Sleeve Tee\n",
       "123622    Waze Men's Typography Short Sleeve Tee\n",
       "123623                                 Tee White\n",
       "123624                                   Tee Red\n",
       "123625                                Tee Yellow\n",
       "123626                                 Tee Green\n",
       "123627                                  Tee Blue\n",
       "123628                             Bike Tee Navy\n",
       "123629                          Matrix Tee White\n",
       "123630                                 Tee Black\n",
       "123631                          3 Lines Tee Grey\n",
       "123632                                 Tee White\n",
       "123633                                 Tee White\n",
       "Name: product name two, Length: 123634, dtype: object"
      ]
     },
     "execution_count": 195,
     "metadata": {},
     "output_type": "execute_result"
    }
   ],
   "source": [
    "cluster1['product name two']\n",
    "    "
   ]
  },
  {
   "cell_type": "code",
   "execution_count": null,
   "metadata": {},
   "outputs": [],
   "source": []
  },
  {
   "cell_type": "code",
   "execution_count": null,
   "metadata": {},
   "outputs": [],
   "source": []
  },
  {
   "cell_type": "code",
   "execution_count": null,
   "metadata": {},
   "outputs": [],
   "source": []
  }
 ],
 "metadata": {
  "kernelspec": {
   "display_name": "Python 3",
   "language": "python",
   "name": "python3"
  },
  "language_info": {
   "codemirror_mode": {
    "name": "ipython",
    "version": 3
   },
   "file_extension": ".py",
   "mimetype": "text/x-python",
   "name": "python",
   "nbconvert_exporter": "python",
   "pygments_lexer": "ipython3",
   "version": "3.7.0"
  }
 },
 "nbformat": 4,
 "nbformat_minor": 2
}
