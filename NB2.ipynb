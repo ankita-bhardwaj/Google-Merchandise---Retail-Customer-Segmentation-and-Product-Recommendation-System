{
 "cells": [
  {
   "cell_type": "code",
   "execution_count": 15,
   "metadata": {},
   "outputs": [],
   "source": [
    "import pandas as pd\n",
    "import numpy as np"
   ]
  },
  {
   "cell_type": "code",
   "execution_count": 14,
   "metadata": {},
   "outputs": [],
   "source": [
    "df=pd.read_csv(\"hits.csv\")"
   ]
  },
  {
   "cell_type": "code",
   "execution_count": 274,
   "metadata": {},
   "outputs": [],
   "source": [
    "data=pd.read_csv(\"merged.csv\")"
   ]
  },
  {
   "cell_type": "code",
   "execution_count": 280,
   "metadata": {},
   "outputs": [],
   "source": [
    "data=(data[data['geoNetwork.continent']!='(not set)']) #similarly for all the columns being selected for full dataframe"
   ]
  },
  {
   "cell_type": "code",
   "execution_count": 306,
   "metadata": {},
   "outputs": [],
   "source": [
    "full=data[['channelGrouping','fullVisitorId','date','geoNetwork.country','geoNetwork.continent','totals.hits','totals.pageviews','trafficSource.source']]"
   ]
  },
  {
   "cell_type": "code",
   "execution_count": 313,
   "metadata": {},
   "outputs": [
    {
     "name": "stderr",
     "output_type": "stream",
     "text": [
      "C:\\Users\\Ankita Bhardwaj\\Anaconda3\\lib\\site-packages\\ipykernel_launcher.py:4: SettingWithCopyWarning: \n",
      "A value is trying to be set on a copy of a slice from a DataFrame.\n",
      "Try using .loc[row_indexer,col_indexer] = value instead\n",
      "\n",
      "See the caveats in the documentation: http://pandas.pydata.org/pandas-docs/stable/indexing.html#indexing-view-versus-copy\n",
      "  after removing the cwd from sys.path.\n"
     ]
    }
   ],
   "source": [
    "l=list()\n",
    "for x in full['date']:\n",
    "    l.append(int(str(x)[4:6]))\n",
    "full['date']=l"
   ]
  },
  {
   "cell_type": "code",
   "execution_count": 316,
   "metadata": {},
   "outputs": [],
   "source": [
    "full.to_csv('full.csv')"
   ]
  },
  {
   "cell_type": "code",
   "execution_count": null,
   "metadata": {},
   "outputs": [],
   "source": [
    "df=df[df['product category']!='(not set)']"
   ]
  },
  {
   "cell_type": "code",
   "execution_count": 20,
   "metadata": {},
   "outputs": [],
   "source": [
    "l1=list()\n",
    "l2=list()\n",
    "for x in df['product category']:\n",
    "    l1.append(x.split('/',1)[0])\n",
    "    try:\n",
    "        l2.append(x.split('/',1)[1])\n",
    "    except:\n",
    "        l2.append(x.split('/',1)[0])"
   ]
  },
  {
   "cell_type": "code",
   "execution_count": 18,
   "metadata": {},
   "outputs": [],
   "source": [
    "df['category 1']=l1"
   ]
  },
  {
   "cell_type": "code",
   "execution_count": 21,
   "metadata": {},
   "outputs": [],
   "source": [
    "for x in range(len(l2)):\n",
    "    if l2[x]=='':\n",
    "        l2[x]=l1[x]"
   ]
  },
  {
   "cell_type": "code",
   "execution_count": 23,
   "metadata": {},
   "outputs": [],
   "source": [
    "l3=list()\n",
    "l4=list()\n",
    "for x in l2 :\n",
    "    l3.append(x.split('/',1)[0])\n",
    "    try:\n",
    "        l4.append(x.split('/',1)[1])\n",
    "    except:\n",
    "        l4.append(x.split('/',1)[0])"
   ]
  },
  {
   "cell_type": "code",
   "execution_count": 25,
   "metadata": {},
   "outputs": [],
   "source": [
    "df['category 2']=l3"
   ]
  },
  {
   "cell_type": "code",
   "execution_count": null,
   "metadata": {},
   "outputs": [],
   "source": [
    "for x in range(len(l4)):\n",
    "    if l4[x]=='':\n",
    "        l4[x]=l3[x]\n"
   ]
  },
  {
   "cell_type": "code",
   "execution_count": 27,
   "metadata": {},
   "outputs": [],
   "source": [
    "l1=list()\n",
    "l2=list()\n",
    "for x in l4 :\n",
    "    l1.append(x.split('/',1)[0])\n",
    "    try:\n",
    "        l2.append(x.split('/',1)[1])\n",
    "    except:\n",
    "        l2.append(x.split('/',1)[0])"
   ]
  },
  {
   "cell_type": "code",
   "execution_count": 30,
   "metadata": {},
   "outputs": [],
   "source": [
    "df['category 3']=l1"
   ]
  },
  {
   "cell_type": "code",
   "execution_count": 29,
   "metadata": {},
   "outputs": [
    {
     "data": {
      "text/plain": [
       "{'Accessories',\n",
       " 'Android',\n",
       " 'Apparel',\n",
       " 'Backpacks',\n",
       " 'Bags',\n",
       " 'Drinkware',\n",
       " 'Electronic Accessories',\n",
       " 'Electronics',\n",
       " 'Flashlights',\n",
       " 'Fun',\n",
       " 'Google',\n",
       " 'Google Cloud Certified',\n",
       " 'Headgear',\n",
       " 'Housewares',\n",
       " \"Kid's\",\n",
       " \"Kid's-Infant/\",\n",
       " \"Kid's-Toddler/\",\n",
       " 'Kids-Youth/',\n",
       " 'Lifestyle',\n",
       " \"Men's\",\n",
       " \"Men's T-Shirts/\",\n",
       " \"Men's Warm Gear/\",\n",
       " \"Men's-Outerwear/\",\n",
       " \"Men's-T-Shirts/\",\n",
       " 'Miscellaneous',\n",
       " 'More Bags',\n",
       " 'Mugs & Tumblers',\n",
       " 'Mugs and Cups',\n",
       " 'Notebooks & Journals',\n",
       " 'Office',\n",
       " 'Shop by Brand',\n",
       " 'Shopping and Totes',\n",
       " 'Socks',\n",
       " 'Stickers',\n",
       " 'Stickers & Decals',\n",
       " 'Water Bottles',\n",
       " 'Water Bottles and Tumblers',\n",
       " 'Waze',\n",
       " \"Women's\",\n",
       " \"Women's T-Shirts/\",\n",
       " \"Women's Warm Gear/\",\n",
       " \"Women's-T-Shirts/\",\n",
       " 'Writing Instruments',\n",
       " 'YouTube'}"
      ]
     },
     "execution_count": 29,
     "metadata": {},
     "output_type": "execute_result"
    }
   ],
   "source": [
    "for x in range(len(l2)):\n",
    "    if l2[x]=='':\n",
    "        l2[x]=l1[x]\n",
    "set(l2)"
   ]
  },
  {
   "cell_type": "code",
   "execution_count": 31,
   "metadata": {},
   "outputs": [],
   "source": [
    "l5=list()\n",
    "for x in l2:\n",
    "    l5.append(x.split('/')[0])"
   ]
  },
  {
   "cell_type": "code",
   "execution_count": 32,
   "metadata": {},
   "outputs": [],
   "source": [
    "df['category 4']=l5"
   ]
  },
  {
   "cell_type": "code",
   "execution_count": 33,
   "metadata": {},
   "outputs": [
    {
     "data": {
      "text/html": [
       "<div>\n",
       "<style scoped>\n",
       "    .dataframe tbody tr th:only-of-type {\n",
       "        vertical-align: middle;\n",
       "    }\n",
       "\n",
       "    .dataframe tbody tr th {\n",
       "        vertical-align: top;\n",
       "    }\n",
       "\n",
       "    .dataframe thead th {\n",
       "        text-align: right;\n",
       "    }\n",
       "</style>\n",
       "<table border=\"1\" class=\"dataframe\">\n",
       "  <thead>\n",
       "    <tr style=\"text-align: right;\">\n",
       "      <th></th>\n",
       "      <th>Unnamed: 0</th>\n",
       "      <th>visitor id</th>\n",
       "      <th>product id</th>\n",
       "      <th>product name</th>\n",
       "      <th>product category</th>\n",
       "      <th>price</th>\n",
       "      <th>category 1</th>\n",
       "      <th>category 2</th>\n",
       "      <th>category 3</th>\n",
       "      <th>category 4</th>\n",
       "    </tr>\n",
       "  </thead>\n",
       "  <tbody>\n",
       "  </tbody>\n",
       "</table>\n",
       "</div>"
      ],
      "text/plain": [
       "Empty DataFrame\n",
       "Columns: [Unnamed: 0, visitor id, product id, product name, product category, price, category 1, category 2, category 3, category 4]\n",
       "Index: []"
      ]
     },
     "execution_count": 33,
     "metadata": {},
     "output_type": "execute_result"
    }
   ],
   "source": [
    "df[df['category 4']=='']"
   ]
  },
  {
   "cell_type": "code",
   "execution_count": 34,
   "metadata": {},
   "outputs": [
    {
     "data": {
      "text/plain": [
       "array([\"Women's-T-Shirts\", 'Bags', 'Drinkware', 'Accessories',\n",
       "       'Backpacks', 'YouTube', 'Stickers', 'Headgear', \"Men's-T-Shirts\",\n",
       "       'Water Bottles and Tumblers', 'Apparel', \"Kid's\", \"Men's\",\n",
       "       'Google', 'Notebooks & Journals', 'Office', 'Shop by Brand',\n",
       "       \"Women's\", 'Android', \"Men's-Outerwear\", 'Lifestyle',\n",
       "       'Electronics', \"Kid's-Infant\", \"Kid's-Toddler\", 'Fun', 'Waze',\n",
       "       'Writing Instruments', 'Shopping and Totes',\n",
       "       'Google Cloud Certified', 'Mugs and Cups', 'Stickers & Decals',\n",
       "       \"Men's T-Shirts\", 'Miscellaneous', 'Electronic Accessories',\n",
       "       \"Women's T-Shirts\", 'Mugs & Tumblers', \"Women's Warm Gear\",\n",
       "       'Socks', \"Men's Warm Gear\", 'Water Bottles', 'Housewares',\n",
       "       'More Bags', 'Kids-Youth', 'Flashlights'], dtype=object)"
      ]
     },
     "execution_count": 34,
     "metadata": {},
     "output_type": "execute_result"
    }
   ],
   "source": [
    "df['category 4'].unique()"
   ]
  },
  {
   "cell_type": "code",
   "execution_count": 35,
   "metadata": {},
   "outputs": [],
   "source": [
    "df=df.drop(columns=['Unnamed: 0','product category'])"
   ]
  },
  {
   "cell_type": "code",
   "execution_count": 36,
   "metadata": {},
   "outputs": [],
   "source": [
    "l1=list()\n",
    "l2=list()\n",
    "for x in df['product name']:\n",
    "    if x.split(' ',1)[0] in ['Google','Android','Cloud','Professional','YouTube']:\n",
    "        l1.append(x.split(' ',1)[0])\n",
    "        l2.append(x.split(' ',1)[1])\n",
    "    else:\n",
    "        l1.append('other')\n",
    "        l2.append(x)"
   ]
  },
  {
   "cell_type": "code",
   "execution_count": 37,
   "metadata": {},
   "outputs": [],
   "source": [
    "df['product name one']=l1\n",
    "df['product name two']=l2"
   ]
  },
  {
   "cell_type": "code",
   "execution_count": 38,
   "metadata": {},
   "outputs": [],
   "source": [
    "df=df.drop(columns='product name')"
   ]
  },
  {
   "cell_type": "code",
   "execution_count": 317,
   "metadata": {},
   "outputs": [],
   "source": [
    "df['price']=df['price']/1000000"
   ]
  },
  {
   "cell_type": "code",
   "execution_count": 42,
   "metadata": {},
   "outputs": [],
   "source": [
    "df.to_csv('hits_not_factored.csv')"
   ]
  }
 ],
 "metadata": {
  "kernelspec": {
   "display_name": "Python 3",
   "language": "python",
   "name": "python3"
  },
  "language_info": {
   "codemirror_mode": {
    "name": "ipython",
    "version": 3
   },
   "file_extension": ".py",
   "mimetype": "text/x-python",
   "name": "python",
   "nbconvert_exporter": "python",
   "pygments_lexer": "ipython3",
   "version": "3.7.0"
  }
 },
 "nbformat": 4,
 "nbformat_minor": 2
}
